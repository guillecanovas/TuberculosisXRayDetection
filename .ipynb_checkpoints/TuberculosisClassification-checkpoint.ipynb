{
 "cells": [
  {
   "cell_type": "markdown",
   "id": "36de7414",
   "metadata": {},
   "source": [
    "# 1. Dependencies"
   ]
  },
  {
   "cell_type": "code",
   "execution_count": 1,
   "id": "8850ba3c",
   "metadata": {},
   "outputs": [
    {
     "name": "stderr",
     "output_type": "stream",
     "text": [
      "2023-09-21 17:57:08.444813: I tensorflow/core/platform/cpu_feature_guard.cc:182] This TensorFlow binary is optimized to use available CPU instructions in performance-critical operations.\n",
      "To enable the following instructions: AVX2 FMA, in other operations, rebuild TensorFlow with the appropriate compiler flags.\n"
     ]
    }
   ],
   "source": [
    "import os, sys\n",
    "from matplotlib import pyplot as plt\n",
    "import tensorflow as tf \n",
    "import tensorflow_io as tfio\n",
    "import numpy as np\n",
    "import pandas as pd"
   ]
  },
  {
   "cell_type": "markdown",
   "id": "8d004a80",
   "metadata": {},
   "source": [
    "## 2. Data"
   ]
  },
  {
   "cell_type": "code",
   "execution_count": 228,
   "id": "e52fb988",
   "metadata": {},
   "outputs": [],
   "source": [
    "NORMAL_DIR = os.path.join('data', 'Normal')\n",
    "TB_DIR  = os.path.join('data', 'Tuberculosis')"
   ]
  },
  {
   "cell_type": "code",
   "execution_count": 289,
   "id": "17693388",
   "metadata": {},
   "outputs": [],
   "source": [
    "normal = tf.data.Dataset.list_files(NORMAL_DIR + '/*.png')\n",
    "tb = tf.data.Dataset.list_files(TB_DIR + '/*.png')"
   ]
  },
  {
   "cell_type": "code",
   "execution_count": 290,
   "id": "0e5dbee9",
   "metadata": {},
   "outputs": [
    {
     "data": {
      "text/plain": [
       "(1760, 700)"
      ]
     },
     "execution_count": 290,
     "metadata": {},
     "output_type": "execute_result"
    }
   ],
   "source": [
    "len(normal), len(tb)"
   ]
  },
  {
   "cell_type": "code",
   "execution_count": 56,
   "id": "d9a34cee",
   "metadata": {},
   "outputs": [
    {
     "data": {
      "image/png": "[encoded data removed]",
      "text/plain": [
       "<Figure size 600x400 with 1 Axes>"
      ]
     },
     "metadata": {},
     "output_type": "display_data"
    }
   ],
   "source": [
    "clase_0_count = len(normal)\n",
    "clase_1_count = len(tb)\n",
    "\n",
    "# Crear un gráfico de barras\n",
    "plt.figure(figsize=(6, 4))\n",
    "plt.bar(['Normal', 'Tuberculosis'], [clase_0_count, clase_1_count])\n",
    "plt.ylabel('Número de muestras')\n",
    "plt.title('Distribución de clases')\n",
    "plt.show()"
   ]
  },
  {
   "cell_type": "markdown",
   "id": "cf9eb8d5",
   "metadata": {},
   "source": [
    "Clases imbalanceadas!!!"
   ]
  },
  {
   "cell_type": "code",
   "execution_count": 230,
   "id": "ce4c6a84",
   "metadata": {},
   "outputs": [
    {
     "data": {
      "text/plain": [
       "b'data/Normal/Normal-470.png'"
      ]
     },
     "execution_count": 230,
     "metadata": {},
     "output_type": "execute_result"
    }
   ],
   "source": [
    "normal.as_numpy_iterator().next()"
   ]
  },
  {
   "cell_type": "markdown",
   "id": "1a166f5c",
   "metadata": {},
   "source": [
    "# 3. Create tensorflow dataset"
   ]
  },
  {
   "cell_type": "code",
   "execution_count": 231,
   "id": "93fc8bc0",
   "metadata": {},
   "outputs": [],
   "source": [
    "#Add labels and combine positive and negative samples\n",
    "normal_data = tf.data.Dataset.zip((normal, tf.data.Dataset.from_tensor_slices(tf.zeros(len(normal))))) #0\n",
    "tb_data = tf.data.Dataset.zip((tb, tf.data.Dataset.from_tensor_slices(tf.ones(len(tb))))) #1\n",
    "data = normal_data.concatenate(tb_data)"
   ]
  },
  {
   "cell_type": "code",
   "execution_count": 232,
   "id": "d346598d",
   "metadata": {},
   "outputs": [
    {
     "data": {
      "text/plain": [
       "(b'data/Normal/Normal-761.png', 0.0)"
      ]
     },
     "execution_count": 232,
     "metadata": {},
     "output_type": "execute_result"
    }
   ],
   "source": [
    "data.as_numpy_iterator().next()"
   ]
  },
  {
   "cell_type": "code",
   "execution_count": 235,
   "id": "3df52e6c",
   "metadata": {},
   "outputs": [
    {
     "data": {
      "text/plain": [
       "(b'data/Normal/Normal-1218.png', 0.0)"
      ]
     },
     "execution_count": 235,
     "metadata": {},
     "output_type": "execute_result"
    }
   ],
   "source": [
    "item = data.as_numpy_iterator().next()\n",
    "item[0], item[1]"
   ]
  },
  {
   "cell_type": "markdown",
   "id": "c037f380",
   "metadata": {},
   "source": [
    "# 4. Preprocessing"
   ]
  },
  {
   "cell_type": "code",
   "execution_count": 236,
   "id": "c1d0c817",
   "metadata": {},
   "outputs": [],
   "source": [
    "from PIL import Image"
   ]
  },
  {
   "cell_type": "code",
   "execution_count": 237,
   "id": "a832d96a",
   "metadata": {},
   "outputs": [],
   "source": [
    "@tf.function\n",
    "def preprocess(file_path, label):\n",
    "    # Decode the PNG image\n",
    "    xray_data = tf.io.read_file(file_path)\n",
    "    xray_image = tf.image.decode_png(xray_data, channels=1) \n",
    "    \n",
    "    # Redimensionar la imagen a las dimensiones deseadas (512x512)\n",
    "    #spectrogram_image = tf.image.resize(spectrogram_image, [512, 512])\n",
    "\n",
    "    # Convert the image to a tensor\n",
    "    xray = tf.cast(xray_image, tf.float32) / 255.0  # Scale to [0, 1]\n",
    "    \n",
    "    return xray, label"
   ]
  },
  {
   "cell_type": "code",
   "execution_count": 238,
   "id": "563b8fa5",
   "metadata": {},
   "outputs": [],
   "source": [
    "data = data.map(preprocess)\n",
    "data = data.cache()\n",
    "data = data.shuffle(buffer_size=1000)\n",
    "data = data.batch(batch_size=8)\n",
    "data = data.prefetch(8)"
   ]
  },
  {
   "cell_type": "code",
   "execution_count": 239,
   "id": "362ce2ed",
   "metadata": {},
   "outputs": [
    {
     "name": "stderr",
     "output_type": "stream",
     "text": [
      "2023-09-21 18:32:58.999567: W tensorflow/core/kernels/data/cache_dataset_ops.cc:854] The calling iterator did not fully read the dataset being cached. In order to avoid unexpected truncation of the dataset, the partially cached contents of the dataset  will be discarded. This can happen if you have an input pipeline similar to `dataset.cache().take(k).repeat()`. You should use `dataset.take(k).cache().repeat()` instead.\n"
     ]
    }
   ],
   "source": [
    "sample, label = data.as_numpy_iterator().next()"
   ]
  },
  {
   "cell_type": "code",
   "execution_count": 240,
   "id": "5a3d1978",
   "metadata": {},
   "outputs": [
    {
     "data": {
      "text/plain": [
       "array([[[[0.9098039 ],\n",
       "         [0.9019608 ],\n",
       "         [0.89411765],\n",
       "         ...,\n",
       "         [0.93333334],\n",
       "         [0.9607843 ],\n",
       "         [0.80784315]],\n",
       "\n",
       "        [[0.88235295],\n",
       "         [0.87058824],\n",
       "         [0.85882354],\n",
       "         ...,\n",
       "         [0.90588236],\n",
       "         [0.92941177],\n",
       "         [0.79607844]],\n",
       "\n",
       "        [[0.8509804 ],\n",
       "         [0.8509804 ],\n",
       "         [0.8392157 ],\n",
       "         ...,\n",
       "         [0.8862745 ],\n",
       "         [0.92156863],\n",
       "         [0.7764706 ]],\n",
       "\n",
       "        ...,\n",
       "\n",
       "        [[0.07450981],\n",
       "         [0.07450981],\n",
       "         [0.07450981],\n",
       "         ...,\n",
       "         [0.26666668],\n",
       "         [0.3372549 ],\n",
       "         [0.30980393]],\n",
       "\n",
       "        [[0.07450981],\n",
       "         [0.07450981],\n",
       "         [0.07450981],\n",
       "         ...,\n",
       "         [0.26666668],\n",
       "         [0.3372549 ],\n",
       "         [0.30980393]],\n",
       "\n",
       "        [[0.07450981],\n",
       "         [0.07450981],\n",
       "         [0.07450981],\n",
       "         ...,\n",
       "         [0.27058825],\n",
       "         [0.32941177],\n",
       "         [0.3019608 ]]],\n",
       "\n",
       "\n",
       "       [[[0.21568628],\n",
       "         [0.23137255],\n",
       "         [0.1764706 ],\n",
       "         ...,\n",
       "         [0.03921569],\n",
       "         [0.03921569],\n",
       "         [0.03137255]],\n",
       "\n",
       "        [[0.3019608 ],\n",
       "         [0.3019608 ],\n",
       "         [0.23529412],\n",
       "         ...,\n",
       "         [0.04705882],\n",
       "         [0.04705882],\n",
       "         [0.03921569]],\n",
       "\n",
       "        [[0.27058825],\n",
       "         [0.2784314 ],\n",
       "         [0.21960784],\n",
       "         ...,\n",
       "         [0.04313726],\n",
       "         [0.04313726],\n",
       "         [0.03529412]],\n",
       "\n",
       "        ...,\n",
       "\n",
       "        [[0.7411765 ],\n",
       "         [0.9529412 ],\n",
       "         [0.92941177],\n",
       "         ...,\n",
       "         [0.41568628],\n",
       "         [0.4392157 ],\n",
       "         [0.3529412 ]],\n",
       "\n",
       "        [[0.36862746],\n",
       "         [0.45882353],\n",
       "         [0.44705883],\n",
       "         ...,\n",
       "         [0.2627451 ],\n",
       "         [0.27450982],\n",
       "         [0.22745098]],\n",
       "\n",
       "        [[0.        ],\n",
       "         [0.        ],\n",
       "         [0.        ],\n",
       "         ...,\n",
       "         [0.        ],\n",
       "         [0.        ],\n",
       "         [0.        ]]],\n",
       "\n",
       "\n",
       "       [[[0.6392157 ],\n",
       "         [0.59607846],\n",
       "         [0.52156866],\n",
       "         ...,\n",
       "         [0.2901961 ],\n",
       "         [0.32941177],\n",
       "         [0.2784314 ]],\n",
       "\n",
       "        [[0.5176471 ],\n",
       "         [0.40784314],\n",
       "         [0.2901961 ],\n",
       "         ...,\n",
       "         [0.08627451],\n",
       "         [0.12156863],\n",
       "         [0.09411765]],\n",
       "\n",
       "        [[0.2901961 ],\n",
       "         [0.18039216],\n",
       "         [0.10588235],\n",
       "         ...,\n",
       "         [0.02745098],\n",
       "         [0.04313726],\n",
       "         [0.01568628]],\n",
       "\n",
       "        ...,\n",
       "\n",
       "        [[0.06666667],\n",
       "         [0.02745098],\n",
       "         [0.00784314],\n",
       "         ...,\n",
       "         [0.22352941],\n",
       "         [0.29803923],\n",
       "         [0.28235295]],\n",
       "\n",
       "        [[0.07843138],\n",
       "         [0.03137255],\n",
       "         [0.00784314],\n",
       "         ...,\n",
       "         [0.24313726],\n",
       "         [0.31764707],\n",
       "         [0.29411766]],\n",
       "\n",
       "        [[0.09411765],\n",
       "         [0.03921569],\n",
       "         [0.01568628],\n",
       "         ...,\n",
       "         [0.27058825],\n",
       "         [0.3372549 ],\n",
       "         [0.30588236]]],\n",
       "\n",
       "\n",
       "       ...,\n",
       "\n",
       "\n",
       "       [[[0.9843137 ],\n",
       "         [0.98039216],\n",
       "         [0.972549  ],\n",
       "         ...,\n",
       "         [0.9137255 ],\n",
       "         [0.9411765 ],\n",
       "         [0.7882353 ]],\n",
       "\n",
       "        [[0.96862745],\n",
       "         [0.972549  ],\n",
       "         [0.9647059 ],\n",
       "         ...,\n",
       "         [0.90588236],\n",
       "         [0.92941177],\n",
       "         [0.78039217]],\n",
       "\n",
       "        [[0.9764706 ],\n",
       "         [0.96862745],\n",
       "         [0.9647059 ],\n",
       "         ...,\n",
       "         [0.8980392 ],\n",
       "         [0.92156863],\n",
       "         [0.78039217]],\n",
       "\n",
       "        ...,\n",
       "\n",
       "        [[0.23921569],\n",
       "         [0.16078432],\n",
       "         [0.11372549],\n",
       "         ...,\n",
       "         [0.12156863],\n",
       "         [0.2       ],\n",
       "         [0.21568628]],\n",
       "\n",
       "        [[0.24313726],\n",
       "         [0.16470589],\n",
       "         [0.11372549],\n",
       "         ...,\n",
       "         [0.12156863],\n",
       "         [0.2       ],\n",
       "         [0.21960784]],\n",
       "\n",
       "        [[0.24705882],\n",
       "         [0.16470589],\n",
       "         [0.11764706],\n",
       "         ...,\n",
       "         [0.12156863],\n",
       "         [0.2       ],\n",
       "         [0.21568628]]],\n",
       "\n",
       "\n",
       "       [[[0.89411765],\n",
       "         [0.81960785],\n",
       "         [0.7490196 ],\n",
       "         ...,\n",
       "         [0.99607843],\n",
       "         [1.        ],\n",
       "         [0.8117647 ]],\n",
       "\n",
       "        [[0.7529412 ],\n",
       "         [0.6509804 ],\n",
       "         [0.5764706 ],\n",
       "         ...,\n",
       "         [0.99215686],\n",
       "         [1.        ],\n",
       "         [0.80784315]],\n",
       "\n",
       "        [[0.60784316],\n",
       "         [0.5137255 ],\n",
       "         [0.44705883],\n",
       "         ...,\n",
       "         [0.9764706 ],\n",
       "         [0.99215686],\n",
       "         [0.8117647 ]],\n",
       "\n",
       "        ...,\n",
       "\n",
       "        [[0.07058824],\n",
       "         [0.07058824],\n",
       "         [0.07058824],\n",
       "         ...,\n",
       "         [0.16470589],\n",
       "         [0.23529412],\n",
       "         [0.23921569]],\n",
       "\n",
       "        [[0.07058824],\n",
       "         [0.07058824],\n",
       "         [0.07058824],\n",
       "         ...,\n",
       "         [0.16470589],\n",
       "         [0.23921569],\n",
       "         [0.24705882]],\n",
       "\n",
       "        [[0.07058824],\n",
       "         [0.07058824],\n",
       "         [0.07058824],\n",
       "         ...,\n",
       "         [0.16470589],\n",
       "         [0.23921569],\n",
       "         [0.24705882]]],\n",
       "\n",
       "\n",
       "       [[[0.        ],\n",
       "         [0.        ],\n",
       "         [0.        ],\n",
       "         ...,\n",
       "         [0.        ],\n",
       "         [0.        ],\n",
       "         [0.        ]],\n",
       "\n",
       "        [[0.        ],\n",
       "         [0.        ],\n",
       "         [0.        ],\n",
       "         ...,\n",
       "         [0.        ],\n",
       "         [0.        ],\n",
       "         [0.        ]],\n",
       "\n",
       "        [[0.        ],\n",
       "         [0.        ],\n",
       "         [0.        ],\n",
       "         ...,\n",
       "         [0.        ],\n",
       "         [0.        ],\n",
       "         [0.        ]],\n",
       "\n",
       "        ...,\n",
       "\n",
       "        [[0.00392157],\n",
       "         [0.00392157],\n",
       "         [0.        ],\n",
       "         ...,\n",
       "         [0.        ],\n",
       "         [0.        ],\n",
       "         [0.00392157]],\n",
       "\n",
       "        [[0.00392157],\n",
       "         [0.00392157],\n",
       "         [0.        ],\n",
       "         ...,\n",
       "         [0.        ],\n",
       "         [0.        ],\n",
       "         [0.00392157]],\n",
       "\n",
       "        [[0.        ],\n",
       "         [0.        ],\n",
       "         [0.        ],\n",
       "         ...,\n",
       "         [0.        ],\n",
       "         [0.        ],\n",
       "         [0.00392157]]]], dtype=float32)"
      ]
     },
     "execution_count": 240,
     "metadata": {},
     "output_type": "execute_result"
    }
   ],
   "source": [
    "sample"
   ]
  },
  {
   "cell_type": "code",
   "execution_count": 241,
   "id": "7aaac3bf",
   "metadata": {},
   "outputs": [
    {
     "data": {
      "text/plain": [
       "(8, 512, 512, 1)"
      ]
     },
     "execution_count": 241,
     "metadata": {},
     "output_type": "execute_result"
    }
   ],
   "source": [
    "sample.shape # (batch, px, px, channels)"
   ]
  },
  {
   "cell_type": "code",
   "execution_count": 242,
   "id": "310e94d8",
   "metadata": {},
   "outputs": [
    {
     "data": {
      "text/plain": [
       "array([0., 0., 0., 0., 0., 0., 0., 0.], dtype=float32)"
      ]
     },
     "execution_count": 242,
     "metadata": {},
     "output_type": "execute_result"
    }
   ],
   "source": [
    "label"
   ]
  },
  {
   "cell_type": "markdown",
   "id": "864b37bf",
   "metadata": {},
   "source": [
    "# 5. Train, test and validation data "
   ]
  },
  {
   "cell_type": "code",
   "execution_count": 243,
   "id": "188d1d70",
   "metadata": {},
   "outputs": [
    {
     "data": {
      "text/plain": [
       "(308, 215, 46, 46)"
      ]
     },
     "execution_count": 243,
     "metadata": {},
     "output_type": "execute_result"
    }
   ],
   "source": [
    "total_size = len(data)\n",
    "train_size = int(len(data)*0.70)\n",
    "val_size = int(len(data)*0.15)\n",
    "test_size = int(len(data)*0.15)\n",
    "\n",
    "total_size, train_size, val_size, test_size"
   ]
  },
  {
   "cell_type": "code",
   "execution_count": 244,
   "id": "03c220d3",
   "metadata": {},
   "outputs": [],
   "source": [
    "train = data.take(train_size+1)\n",
    "test = data.skip(train_size+1).take(test_size)\n",
    "val = data.skip(train_size+test_size+1).take(val_size)"
   ]
  },
  {
   "cell_type": "code",
   "execution_count": 294,
   "id": "33010229",
   "metadata": {},
   "outputs": [
    {
     "data": {
      "text/plain": [
       "(216, 46, 46)"
      ]
     },
     "execution_count": 294,
     "metadata": {},
     "output_type": "execute_result"
    }
   ],
   "source": [
    "len(train), len(test), len(val)"
   ]
  },
  {
   "cell_type": "code",
   "execution_count": 296,
   "id": "8ed33d5d",
   "metadata": {},
   "outputs": [
    {
     "data": {
      "text/plain": [
       "False"
      ]
     },
     "execution_count": 296,
     "metadata": {},
     "output_type": "execute_result"
    }
   ],
   "source": [
    "test == val #I make sure they are not the same data"
   ]
  },
  {
   "cell_type": "code",
   "execution_count": 245,
   "id": "9f3d8a2e",
   "metadata": {},
   "outputs": [
    {
     "name": "stderr",
     "output_type": "stream",
     "text": [
      "2023-09-22 15:49:07.679855: W tensorflow/core/kernels/data/cache_dataset_ops.cc:854] The calling iterator did not fully read the dataset being cached. In order to avoid unexpected truncation of the dataset, the partially cached contents of the dataset  will be discarded. This can happen if you have an input pipeline similar to `dataset.cache().take(k).repeat()`. You should use `dataset.take(k).cache().repeat()` instead.\n"
     ]
    }
   ],
   "source": [
    "samples, labels = train.as_numpy_iterator().next()"
   ]
  },
  {
   "cell_type": "code",
   "execution_count": 248,
   "id": "82633b61",
   "metadata": {},
   "outputs": [
    {
     "data": {
      "text/plain": [
       "(8, 512, 512, 1)"
      ]
     },
     "execution_count": 248,
     "metadata": {},
     "output_type": "execute_result"
    }
   ],
   "source": [
    "samples.shape #x-ray image has the shape of (512,512,1)"
   ]
  },
  {
   "cell_type": "code",
   "execution_count": 250,
   "id": "ff382fb7",
   "metadata": {},
   "outputs": [
    {
     "data": {
      "text/plain": [
       "array([0., 0., 0., 0., 0., 0., 0., 0.], dtype=float32)"
      ]
     },
     "execution_count": 250,
     "metadata": {},
     "output_type": "execute_result"
    }
   ],
   "source": [
    "labels"
   ]
  },
  {
   "cell_type": "code",
   "execution_count": 251,
   "id": "16013217",
   "metadata": {},
   "outputs": [
    {
     "data": {
      "text/plain": [
       "(512, 512, 1)"
      ]
     },
     "execution_count": 251,
     "metadata": {},
     "output_type": "execute_result"
    }
   ],
   "source": [
    "model_input_shape = (samples.shape[1], samples.shape[2], samples.shape[3])\n",
    "model_input_shape"
   ]
  },
  {
   "cell_type": "code",
   "execution_count": 252,
   "id": "dbf976c9",
   "metadata": {},
   "outputs": [
    {
     "data": {
      "text/plain": [
       "<_TakeDataset element_spec=(TensorSpec(shape=(None, None, None, 1), dtype=tf.float32, name=None), TensorSpec(shape=(None,), dtype=tf.float32, name=None))>"
      ]
     },
     "execution_count": 252,
     "metadata": {},
     "output_type": "execute_result"
    }
   ],
   "source": [
    "train"
   ]
  },
  {
   "cell_type": "markdown",
   "id": "921b869a",
   "metadata": {},
   "source": [
    "# 6. Build, compile and fit the model"
   ]
  },
  {
   "cell_type": "code",
   "execution_count": 253,
   "id": "1aa60f55",
   "metadata": {},
   "outputs": [],
   "source": [
    "from tensorflow.keras.models import Sequential\n",
    "from tensorflow.keras.layers import Conv2D, Dense, Flatten, MaxPooling2D, Dropout"
   ]
  },
  {
   "cell_type": "code",
   "execution_count": 254,
   "id": "9397b3b1",
   "metadata": {},
   "outputs": [],
   "source": [
    "model = Sequential()\n",
    "\n",
    "#Input layers\n",
    "model.add(Conv2D(32, (3,3), activation='relu', input_shape=model_input_shape))\n",
    "model.add(MaxPooling2D((2, 2)))\n",
    "\n",
    "#1st Hidden layers\n",
    "model.add(Conv2D(64, (3,3), activation='relu'))\n",
    "model.add(MaxPooling2D((2, 2)))\n",
    "\n",
    "#2nd Hidden layers\n",
    "model.add(Conv2D(64, (3,3), activation='relu'))\n",
    "model.add(MaxPooling2D((2, 2)))\n",
    "\n",
    "#3rd Hideen layers group\n",
    "model.add(Flatten())\n",
    "model.add(Dense(128, activation='relu'))\n",
    "\n",
    "#Output layer\n",
    "#model.add(Dropout(0.5))\n",
    "model.add(Dense(1, activation='sigmoid'))"
   ]
  },
  {
   "cell_type": "code",
   "execution_count": 255,
   "id": "4bee245d",
   "metadata": {},
   "outputs": [],
   "source": [
    "model.compile('Adam', loss='BinaryCrossentropy', metrics=[tf.keras.metrics.Recall(),tf.keras.metrics.Precision()])"
   ]
  },
  {
   "cell_type": "code",
   "execution_count": 256,
   "id": "7fcda9a6",
   "metadata": {},
   "outputs": [
    {
     "name": "stdout",
     "output_type": "stream",
     "text": [
      "Model: \"sequential\"\n",
      "_________________________________________________________________\n",
      " Layer (type)                Output Shape              Param #   \n",
      "=================================================================\n",
      " conv2d (Conv2D)             (None, 510, 510, 32)      320       \n",
      "                                                                 \n",
      " max_pooling2d (MaxPooling2  (None, 255, 255, 32)      0         \n",
      " D)                                                              \n",
      "                                                                 \n",
      " conv2d_1 (Conv2D)           (None, 253, 253, 64)      18496     \n",
      "                                                                 \n",
      " max_pooling2d_1 (MaxPoolin  (None, 126, 126, 64)      0         \n",
      " g2D)                                                            \n",
      "                                                                 \n",
      " conv2d_2 (Conv2D)           (None, 124, 124, 64)      36928     \n",
      "                                                                 \n",
      " max_pooling2d_2 (MaxPoolin  (None, 62, 62, 64)        0         \n",
      " g2D)                                                            \n",
      "                                                                 \n",
      " flatten (Flatten)           (None, 246016)            0         \n",
      "                                                                 \n",
      " dense (Dense)               (None, 128)               31490176  \n",
      "                                                                 \n",
      " dense_1 (Dense)             (None, 1)                 129       \n",
      "                                                                 \n",
      "=================================================================\n",
      "Total params: 31546049 (120.34 MB)\n",
      "Trainable params: 31546049 (120.34 MB)\n",
      "Non-trainable params: 0 (0.00 Byte)\n",
      "_________________________________________________________________\n"
     ]
    }
   ],
   "source": [
    "model.summary()"
   ]
  },
  {
   "cell_type": "code",
   "execution_count": 257,
   "id": "98bc1dc6",
   "metadata": {},
   "outputs": [
    {
     "name": "stdout",
     "output_type": "stream",
     "text": [
      "Epoch 1/10\n",
      "216/216 [==============================] - 382s 2s/step - loss: 0.4983 - recall: 0.7479 - precision: 0.8012 - val_loss: 0.2859 - val_recall: 0.9639 - val_precision: 0.8500\n",
      "Epoch 2/10\n",
      "216/216 [==============================] - 340s 2s/step - loss: 0.4658 - recall: 0.6883 - precision: 0.7637 - val_loss: 0.4564 - val_recall: 0.8571 - val_precision: 0.8571\n",
      "Epoch 3/10\n",
      "216/216 [==============================] - 330s 2s/step - loss: 0.2304 - recall: 0.7596 - precision: 0.8649 - val_loss: 0.2295 - val_recall: 0.9239 - val_precision: 0.9055\n",
      "Epoch 4/10\n",
      "216/216 [==============================] - 325s 2s/step - loss: 0.1587 - recall: 0.8516 - precision: 0.8684 - val_loss: 0.1725 - val_recall: 0.9741 - val_precision: 0.9353\n",
      "Epoch 5/10\n",
      "216/216 [==============================] - 327s 2s/step - loss: 0.1051 - recall: 0.8994 - precision: 0.9161 - val_loss: 0.1148 - val_recall: 0.9830 - val_precision: 0.9105\n",
      "Epoch 6/10\n",
      "216/216 [==============================] - 319s 1s/step - loss: 0.0721 - recall: 0.9309 - precision: 0.9366 - val_loss: 0.1327 - val_recall: 0.9066 - val_precision: 0.9940\n",
      "Epoch 7/10\n",
      "216/216 [==============================] - 319s 1s/step - loss: 0.0890 - recall: 0.9292 - precision: 0.9403 - val_loss: 0.2195 - val_recall: 0.9885 - val_precision: 0.8557\n",
      "Epoch 8/10\n",
      "216/216 [==============================] - 318s 1s/step - loss: 0.0816 - recall: 0.9315 - precision: 0.9260 - val_loss: 0.1168 - val_recall: 0.9278 - val_precision: 0.9940\n",
      "Epoch 9/10\n",
      "216/216 [==============================] - 320s 1s/step - loss: 0.1233 - recall: 0.8811 - precision: 0.9146 - val_loss: 0.0544 - val_recall: 0.9752 - val_precision: 0.9704\n",
      "Epoch 10/10\n",
      "216/216 [==============================] - 321s 1s/step - loss: 0.0532 - recall: 0.9505 - precision: 0.9534 - val_loss: 0.0690 - val_recall: 0.9769 - val_precision: 0.9713\n"
     ]
    }
   ],
   "source": [
    "hist = model.fit(train, epochs=10, validation_data=val)"
   ]
  },
  {
   "cell_type": "code",
   "execution_count": 258,
   "id": "84227c2b",
   "metadata": {},
   "outputs": [
    {
     "data": {
      "image/png": "[encoded data removed]",
      "text/plain": [
       "<Figure size 640x480 with 1 Axes>"
      ]
     },
     "metadata": {},
     "output_type": "display_data"
    }
   ],
   "source": [
    "plt.title('Loss')\n",
    "plt.plot(hist.history['loss'], 'r')\n",
    "plt.plot(hist.history['val_loss'], 'b')\n",
    "plt.show()"
   ]
  },
  {
   "cell_type": "code",
   "execution_count": 260,
   "id": "35a8404a",
   "metadata": {},
   "outputs": [
    {
     "data": {
      "image/png": "[encoded data removed]",
      "text/plain": [
       "<Figure size 640x480 with 1 Axes>"
      ]
     },
     "metadata": {},
     "output_type": "display_data"
    }
   ],
   "source": [
    "plt.title('Precision')\n",
    "plt.plot(hist.history['precision'], 'r')\n",
    "plt.plot(hist.history['val_precision'], 'b')\n",
    "plt.show()"
   ]
  },
  {
   "cell_type": "code",
   "execution_count": 261,
   "id": "3bbead9d",
   "metadata": {},
   "outputs": [
    {
     "data": {
      "image/png": "[encoded data removed]",
      "text/plain": [
       "<Figure size 640x480 with 1 Axes>"
      ]
     },
     "metadata": {},
     "output_type": "display_data"
    }
   ],
   "source": [
    "plt.title('Recall')\n",
    "plt.plot(hist.history['recall'], 'r')\n",
    "plt.plot(hist.history['val_recall'], 'b')\n",
    "plt.show()"
   ]
  },
  {
   "cell_type": "markdown",
   "id": "c1f39712",
   "metadata": {},
   "source": [
    "# 7. Save the model"
   ]
  },
  {
   "cell_type": "code",
   "execution_count": 297,
   "id": "023a3ae4",
   "metadata": {},
   "outputs": [
    {
     "name": "stderr",
     "output_type": "stream",
     "text": [
      "/Users/guillecanovas/opt/anaconda3/envs/stock-analysis/lib/python3.9/site-packages/keras/src/engine/training.py:3000: UserWarning: You are saving your model as an HDF5 file via `model.save()`. This file format is considered legacy. We recommend using instead the native Keras format, e.g. `model.save('my_model.keras')`.\n",
      "  saving_api.save_model(\n"
     ]
    }
   ],
   "source": [
    "model.save('model.h5')"
   ]
  },
  {
   "cell_type": "code",
   "execution_count": null,
   "id": "85cfdb0f",
   "metadata": {},
   "outputs": [],
   "source": [
    "stored_model = keras.models.load_model('model.h5')"
   ]
  },
  {
   "cell_type": "markdown",
   "id": "6fe1cce4",
   "metadata": {},
   "source": [
    "# 8. Test predictions with one batch"
   ]
  },
  {
   "cell_type": "code",
   "execution_count": 262,
   "id": "01738f04",
   "metadata": {},
   "outputs": [],
   "source": [
    "X_test, y_test = test.as_numpy_iterator().next()"
   ]
  },
  {
   "cell_type": "code",
   "execution_count": 263,
   "id": "efdb2522",
   "metadata": {},
   "outputs": [
    {
     "data": {
      "text/plain": [
       "(8, 512, 512, 1)"
      ]
     },
     "execution_count": 263,
     "metadata": {},
     "output_type": "execute_result"
    }
   ],
   "source": [
    "X_test.shape"
   ]
  },
  {
   "cell_type": "code",
   "execution_count": 270,
   "id": "36d5e0b0",
   "metadata": {},
   "outputs": [
    {
     "name": "stdout",
     "output_type": "stream",
     "text": [
      "1/1 [==============================] - 0s 317ms/step\n"
     ]
    },
    {
     "data": {
      "text/plain": [
       "array([[1.5842364e-14],\n",
       "       [9.9815845e-01],\n",
       "       [9.9890059e-01],\n",
       "       [2.0907743e-07],\n",
       "       [9.9108344e-01],\n",
       "       [9.2747396e-01],\n",
       "       [9.7491562e-01],\n",
       "       [9.9718308e-01]], dtype=float32)"
      ]
     },
     "execution_count": 270,
     "metadata": {},
     "output_type": "execute_result"
    }
   ],
   "source": [
    "yhat = model.predict(X_test)\n",
    "yhat"
   ]
  },
  {
   "cell_type": "code",
   "execution_count": 271,
   "id": "0c3a9570",
   "metadata": {},
   "outputs": [
    {
     "data": {
      "text/plain": [
       "[0, 1, 1, 0, 1, 1, 1, 1]"
      ]
     },
     "execution_count": 271,
     "metadata": {},
     "output_type": "execute_result"
    }
   ],
   "source": [
    "yhat = [1 if prediction > 0.90 else 0 for prediction in yhat]\n",
    "yhat"
   ]
  },
  {
   "cell_type": "code",
   "execution_count": 272,
   "id": "db119506",
   "metadata": {},
   "outputs": [
    {
     "data": {
      "text/plain": [
       "array([0, 1, 1, 0, 1, 1, 1, 1])"
      ]
     },
     "execution_count": 272,
     "metadata": {},
     "output_type": "execute_result"
    }
   ],
   "source": [
    "y_test.astype(int)"
   ]
  },
  {
   "cell_type": "code",
   "execution_count": 273,
   "id": "e9fe561c",
   "metadata": {},
   "outputs": [
    {
     "data": {
      "text/plain": [
       "array([ True,  True,  True,  True,  True,  True,  True,  True])"
      ]
     },
     "execution_count": 273,
     "metadata": {},
     "output_type": "execute_result"
    }
   ],
   "source": [
    "y_test.astype(int) == yhat"
   ]
  },
  {
   "cell_type": "markdown",
   "id": "60b7b86d",
   "metadata": {},
   "source": [
    "# 9. Final Test predictions"
   ]
  },
  {
   "cell_type": "code",
   "execution_count": 300,
   "id": "113c2865",
   "metadata": {},
   "outputs": [],
   "source": [
    "X_test_list = []\n",
    "y_test_list = []\n",
    "\n",
    "# Iterate over the entire 'test' dataset and store the concatenations\n",
    "for X_batch, y_batch in test.as_numpy_iterator():\n",
    "    X_test_list.append(X_batch)\n",
    "    y_test_list.append(y_batch)\n",
    "\n",
    "X_test = np.concatenate(X_test_list, axis=0)\n",
    "y_test = np.concatenate(y_test_list, axis=0)"
   ]
  },
  {
   "cell_type": "code",
   "execution_count": 301,
   "id": "526cca9c",
   "metadata": {},
   "outputs": [
    {
     "name": "stdout",
     "output_type": "stream",
     "text": [
      "12/12 [==============================] - 15s 1s/step\n"
     ]
    },
    {
     "data": {
      "text/plain": [
       "array([[9.8270112e-01],\n",
       "       [9.6969893e-03],\n",
       "       [9.9995250e-01],\n",
       "       [6.7822212e-01],\n",
       "       [3.9147248e-04],\n",
       "       [6.5686239e-09],\n",
       "       [8.8258314e-01],\n",
       "       [9.9224937e-01],\n",
       "       [9.9881899e-01],\n",
       "       [0.0000000e+00]], dtype=float32)"
      ]
     },
     "execution_count": 301,
     "metadata": {},
     "output_type": "execute_result"
    }
   ],
   "source": [
    "yhat = model.predict(X_test)\n",
    "yhat[:10]"
   ]
  },
  {
   "cell_type": "code",
   "execution_count": 303,
   "id": "1b072773",
   "metadata": {},
   "outputs": [
    {
     "data": {
      "text/plain": [
       "[1, 0, 1, 0, 0, 0, 0, 1, 1, 0]"
      ]
     },
     "execution_count": 303,
     "metadata": {},
     "output_type": "execute_result"
    }
   ],
   "source": [
    "yhat = [1 if prediction > 0.99 else 0 for prediction in yhat]\n",
    "yhat[:10]"
   ]
  },
  {
   "cell_type": "code",
   "execution_count": 304,
   "id": "a8a34b73",
   "metadata": {},
   "outputs": [
    {
     "data": {
      "text/plain": [
       "array([1, 0, 1, 1, 0, 0, 1, 1, 1, 0, 1, 0, 0, 1, 0, 0, 1, 1, 0, 0, 0, 1,\n",
       "       0, 0, 1, 0, 1, 0, 0, 1, 1, 0, 0, 1, 1, 1, 1, 0, 0, 1, 1, 0, 1, 0,\n",
       "       1, 1, 0, 1, 0, 0, 0, 1, 1, 0, 0, 1, 1, 1, 1, 1, 0, 0, 1, 1, 1, 0,\n",
       "       1, 1, 0, 0, 0, 0, 0, 0, 0, 0, 0, 1, 0, 0, 0, 1, 1, 1, 1, 0, 0, 0,\n",
       "       1, 0, 0, 0, 0, 0, 0, 0, 0, 1, 0, 0, 0, 1, 0, 0, 1, 0, 0, 1, 0, 0,\n",
       "       0, 1, 1, 1, 1, 1, 1, 0, 0, 0, 1, 0, 1, 1, 1, 1, 1, 1, 1, 1, 0, 0,\n",
       "       1, 0, 1, 0, 1, 1, 0, 0, 1, 1, 0, 0, 1, 0, 0, 0, 1, 0, 1, 1, 0, 1,\n",
       "       1, 1, 1, 1, 1, 0, 1, 0, 0, 1, 0, 1, 1, 1, 1, 0, 1, 1, 1, 1, 0, 0,\n",
       "       1, 0, 0, 1, 0, 0, 0, 0, 1, 0, 1, 1, 1, 0, 1, 0, 1, 1, 1, 1, 1, 1,\n",
       "       1, 0, 0, 1, 0, 1, 0, 0, 1, 0, 0, 1, 0, 1, 1, 0, 1, 0, 0, 1, 0, 1,\n",
       "       0, 1, 1, 0, 0, 1, 1, 1, 0, 1, 1, 0, 0, 0, 1, 1, 1, 0, 1, 0, 0, 1,\n",
       "       0, 1, 0, 0, 1, 1, 0, 0, 0, 0, 0, 1, 0, 0, 0, 0, 0, 1, 1, 0, 1, 1,\n",
       "       0, 0, 0, 0, 1, 0, 0, 0, 1, 0, 1, 1, 1, 1, 1, 1, 1, 0, 1, 0, 0, 0,\n",
       "       1, 0, 1, 0, 1, 1, 1, 1, 0, 1, 0, 1, 1, 0, 1, 1, 0, 1, 0, 0, 1, 1,\n",
       "       1, 0, 0, 1, 0, 1, 1, 1, 0, 0, 0, 1, 0, 0, 1, 1, 0, 1, 0, 0, 1, 1,\n",
       "       1, 1, 1, 1, 1, 0, 0, 1, 0, 1, 1, 0, 0, 0, 0, 1, 0, 0, 1, 1, 0, 1,\n",
       "       1, 1, 0, 1, 1, 0, 1, 1, 1, 1, 1, 0, 1, 0, 1, 1])"
      ]
     },
     "execution_count": 304,
     "metadata": {},
     "output_type": "execute_result"
    }
   ],
   "source": [
    "y_test.astype(int)"
   ]
  },
  {
   "cell_type": "code",
   "execution_count": 305,
   "id": "95951c35",
   "metadata": {},
   "outputs": [
    {
     "data": {
      "text/plain": [
       "array([ True,  True,  True, False,  True,  True, False,  True,  True,\n",
       "        True,  True,  True,  True,  True,  True,  True,  True, False,\n",
       "        True,  True,  True,  True,  True,  True,  True,  True,  True,\n",
       "        True,  True,  True,  True,  True,  True,  True,  True,  True,\n",
       "       False,  True,  True, False])"
      ]
     },
     "execution_count": 305,
     "metadata": {},
     "output_type": "execute_result"
    }
   ],
   "source": [
    "predictions = (y_test.astype(int) == yhat)\n",
    "predictions[:40]"
   ]
  },
  {
   "cell_type": "markdown",
   "id": "18d2340b",
   "metadata": {},
   "source": [
    "# 10. Calculate precision"
   ]
  },
  {
   "cell_type": "code",
   "execution_count": 306,
   "id": "1fbf0408",
   "metadata": {},
   "outputs": [
    {
     "name": "stdout",
     "output_type": "stream",
     "text": [
      "Precision: 0.9347826086956522\n"
     ]
    }
   ],
   "source": [
    "# Calculate True Positives (count of True values)\n",
    "true_positives = np.sum(predictions)\n",
    "\n",
    "# Calculate False Positives (count of False values)\n",
    "false_positives = len(predictions) - true_positives\n",
    "\n",
    "# Calculate Precision\n",
    "precision = true_positives / (true_positives + false_positives)\n",
    "\n",
    "print(\"Precision:\", precision)"
   ]
  },
  {
   "cell_type": "markdown",
   "id": "abf57e36",
   "metadata": {},
   "source": [
    "# 11. Image enhancement technique (TO DO)"
   ]
  },
  {
   "cell_type": "markdown",
   "id": "7be58188",
   "metadata": {},
   "source": [
    "Five different image enhancement techniques: \n",
    "- Histogram equalization (HE)\n",
    "- Contrast limited adaptive histogram equalization (CLAHE)\n",
    "- Image complement\n",
    "- __Gamma correction (Works really well)__ \n",
    "- Balance Contrast Enhancement Technique (BCET)\n",
    "\n",
    "These techniques are implemented by reffering the below paper.\n",
    "Ref paper: https://arxiv.org/pdf/2012.02238.pdf"
   ]
  }
 ],
 "metadata": {
  "kernelspec": {
   "display_name": "Python 3 (ipykernel)",
   "language": "python",
   "name": "python3"
  },
  "language_info": {
   "codemirror_mode": {
    "name": "ipython",
    "version": 3
   },
   "file_extension": ".py",
   "mimetype": "text/x-python",
   "name": "python",
   "nbconvert_exporter": "python",
   "pygments_lexer": "ipython3",
   "version": "3.9.17"
  }
 },
 "nbformat": 4,
 "nbformat_minor": 5
}
